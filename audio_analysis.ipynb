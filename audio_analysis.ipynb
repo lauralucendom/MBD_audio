{
 "cells": [
  {
   "cell_type": "markdown",
   "metadata": {},
   "source": [
    "## HEART SOUND ANALYSIS AND CLASSIFICATION "
   ]
  },
  {
   "cell_type": "markdown",
   "metadata": {},
   "source": [
    "Antes de empezar con el análisis y la clasificación de los distintos sonidos, se procede a explicar en qué consiste el análisis y cómo son los datos de los que se dispone.\n",
    "\n",
    "Los sonidos del corazón son muy característicos del propio individuo y son generados por los latidos del corazón y el flujo de sangre a través de él. En los adultos sanos, hay dos sonidos cardíacos normales, comúnmente descritos como __lub__ y __dub__ (o dup). Estas onomatopeyas habituales constituyen los dos sonidos característicos de un corazón sano siendo __lub__ el primer sonido cardíaco __(S1)__ y __dub__ (o dup) el segundo sonido cardíaco __(S2)__. Ambos ocurren en secuencia con cada latido del corazón y se producen por el cierre de válvulas auriculoventriculares y semilunares, respectivamente.\n"
   ]
  },
  {
   "cell_type": "code",
   "execution_count": 5,
   "metadata": {},
   "outputs": [
    {
     "output_type": "stream",
     "name": "stdout",
     "text": "Populating the interactive namespace from numpy and matplotlib\n"
    }
   ],
   "source": [
    "import warnings                        # To ignore any warnings\n",
    "warnings.filterwarnings(\"ignore\")\n",
    "%matplotlib inline\n",
    "%pylab inline\n",
    "import os\n",
    "import pandas as pd\n",
    "import librosa\n",
    "import librosa.display\n",
    "import glob \n",
    "import matplotlib.pyplot as plt\n",
    "%config InlineBackend.figure_format = 'retina'"
   ]
  },
  {
   "cell_type": "code",
   "execution_count": null,
   "metadata": {},
   "outputs": [],
   "source": []
  },
  {
   "cell_type": "code",
   "execution_count": null,
   "metadata": {},
   "outputs": [],
   "source": []
  },
  {
   "cell_type": "code",
   "execution_count": null,
   "metadata": {},
   "outputs": [],
   "source": []
  }
 ],
 "metadata": {
  "language_info": {
   "codemirror_mode": {
    "name": "ipython",
    "version": 2
   },
   "file_extension": ".py",
   "mimetype": "text/x-python",
   "name": "python",
   "nbconvert_exporter": "python",
   "pygments_lexer": "ipython2",
   "version": "3.8.3-final"
  },
  "orig_nbformat": 2,
  "kernelspec": {
   "name": "python3",
   "display_name": "Python 3"
  }
 },
 "nbformat": 4,
 "nbformat_minor": 2
}