{
 "cells": [
  {
   "cell_type": "markdown",
   "metadata": {},
   "source": [
    "## HEART SOUND ANALYSIS AND CLASSIFICATION "
   ]
  },
  {
   "cell_type": "markdown",
   "metadata": {},
   "source": [
    "### Introducción"
   ]
  },
  {
   "cell_type": "markdown",
   "metadata": {},
   "source": [
    "Antes de empezar con el análisis y la clasificación de los distintos sonidos, se procede a explicar en qué consiste el análisis y cómo son los datos de los que se dispone.\n",
    "\n",
    "Los sonidos del corazón son muy característicos del propio individuo y son generados por los latidos del corazón y el flujo de sangre a través de él. En los adultos sanos, hay dos sonidos cardíacos normales, comúnmente descritos como __lub__ y __dub__ (o dup). Estas onomatopeyas habituales constituyen los dos sonidos característicos de un corazón sano siendo __lub__ el primer sonido cardíaco __(S1)__ y __dub__ (o dup) el segundo sonido cardíaco __(S2)__. Ambos ocurren en secuencia con cada latido del corazón y se producen por el cierre de válvulas auriculoventriculares y semilunares, respectivamente.\n"
   ]
  },
  {
   "cell_type": "markdown",
   "metadata": {},
   "source": [
    "### Contenido "
   ]
  },
  {
   "cell_type": "markdown",
   "metadata": {},
   "source": [
    "Los datos de los que se dispone se dividen en dos conjuntos de datos diferentes, el __set A__ y el __set B__. Además de los audios correspondientes, se dispone también de varios ficheros __.csv__ que nos proporcionan diferente información:\n",
    "\n",
    "    - set_a.csv : contiene etiquetas y metadatos de latidos del corazón recopilados del público en general a través de una aplicación para iPhone.\n",
    "\n",
    "    - set_a_timing.csv : contiene información de tiempo estándar para las grabaciones \"normales\" del conjunto A.\n",
    "\n",
    "    - set_b.csv : contiene etiquetas y metadatos de latidos cardíacos recopilados en un ensayo clínico en hospitales con un estetoscopio digital.\n",
    "\n",
    "    - archivos de audio : diferentes longitudes de audios que van desde 1 a 30 segundos. En algunos casos, los archivos se han recortado para reducir el ruido excesivo de los mismos y proporcionar así el frangmentos saliente del sonido. \n"
   ]
  },
  {
   "cell_type": "markdown",
   "metadata": {},
   "source": [
    "### Exploración de los datos"
   ]
  },
  {
   "cell_type": "markdown",
   "metadata": {},
   "source": [
    "En primer lugar, se procede a analizar los datos del directorio __archive__ tanto en contenido como en organización:"
   ]
  },
  {
   "cell_type": "code",
   "execution_count": 5,
   "metadata": {},
   "outputs": [
    {
     "output_type": "stream",
     "name": "stdout",
     "text": "Populating the interactive namespace from numpy and matplotlib\n"
    }
   ],
   "source": [
    "import warnings                       \n",
    "warnings.filterwarnings(\"ignore\")\n",
    "%matplotlib inline\n",
    "%pylab inline\n",
    "import os\n",
    "import pandas as pd\n",
    "import librosa\n",
    "import librosa.display\n",
    "import glob \n",
    "import matplotlib.pyplot as plt\n",
    "%config InlineBackend.figure_format = 'retina'"
   ]
  },
  {
   "cell_type": "code",
   "execution_count": 14,
   "metadata": {},
   "outputs": [
    {
     "output_type": "execute_result",
     "data": {
      "text/plain": "array(['artifact', 'extrahls', 'murmur', 'normal', nan], dtype=object)"
     },
     "metadata": {},
     "execution_count": 14
    }
   ],
   "source": [
    "# Carga de los datos correspondientes al conjunto A\n",
    "set_a=pd.read_csv('./archive/set_a.csv')\n",
    "set_a.label.unique()"
   ]
  },
  {
   "cell_type": "code",
   "execution_count": 15,
   "metadata": {},
   "outputs": [
    {
     "output_type": "execute_result",
     "data": {
      "text/plain": "array(['extrastole', 'murmur', 'normal', nan], dtype=object)"
     },
     "metadata": {},
     "execution_count": 15
    }
   ],
   "source": [
    "# Carga de los datos correspondientes al conjunto B\n",
    "set_b=pd.read_csv('./archive/set_b.csv')\n",
    "set_b.label.unique()"
   ]
  },
  {
   "cell_type": "markdown",
   "metadata": {},
   "source": [
    "Con el fin de poder tener todos los datos en un mismo conjunto de datos, se unen ambos datasets para así trabajar de una forma más cómoda y rápida. De esta manera, se dispondrá de todos los labels en un mismo dataframe pues, como se puede ver en los resultados anteriores, para los audios grabados con la aplicación de iPhone __(setA)__ existen 5 clases diferentes mientras que, para el caso del __setB__ se dispone de 4 clases distintas."
   ]
  }
 ],
 "metadata": {
  "language_info": {
   "codemirror_mode": {
    "name": "ipython",
    "version": 2
   },
   "file_extension": ".py",
   "mimetype": "text/x-python",
   "name": "python",
   "nbconvert_exporter": "python",
   "pygments_lexer": "ipython2",
   "version": "3.8.3-final"
  },
  "orig_nbformat": 2,
  "kernelspec": {
   "name": "python3",
   "display_name": "Python 3"
  }
 },
 "nbformat": 4,
 "nbformat_minor": 2
}